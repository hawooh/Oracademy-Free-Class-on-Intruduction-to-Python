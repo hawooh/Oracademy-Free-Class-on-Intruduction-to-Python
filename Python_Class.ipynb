{
 "cells": [
  {
   "cell_type": "markdown",
   "metadata": {
    "colab": {
     "base_uri": "https://localhost:8080/"
    },
    "id": "tX0gifpA-ijt",
    "outputId": "b88fa7e5-c941-4ad9-a359-b184337037ab"
   },
   "source": [
    "   # ORACADEMY MATERIAL\n",
    "   # Variables in Python\n",
    "      \n",
    "'''A variable is a named location used to store data in the memory.\n",
    "It is helpful to think of variables as a container that holds data that can be changed later in the program.\n",
    "'''"
   ]
  },
  {
   "cell_type": "markdown",
   "metadata": {},
   "source": [
    "Values Assigning"
   ]
  },
  {
   "cell_type": "code",
   "execution_count": null,
   "metadata": {},
   "outputs": [],
   "source": [
    "a = \"Hello\"\n",
    "\n",
    "b = 45\n",
    "\n",
    "print(\"a\")\n",
    "print(a)\n",
    "print(b)"
   ]
  },
  {
   "cell_type": "markdown",
   "metadata": {},
   "source": [
    "Variable Rules"
   ]
  },
  {
   "cell_type": "code",
   "execution_count": null,
   "metadata": {
    "id": "Qf7FNhzr_ERv"
   },
   "outputs": [],
   "source": [
    "'''\n",
    "1. Variable name should alway be seperate with underscore or capital letter not a space\n",
    "2. varibale name should alway be in lower case\n",
    "3. Variable can not start with a number"
   ]
  },
  {
   "cell_type": "code",
   "execution_count": 7,
   "metadata": {
    "id": "fYvTzYpK_RDf"
   },
   "outputs": [],
   "source": [
    "first_name = \"Ayo\"\n",
    "firstName = \"Ayo\"\n",
    "finstname1 = \"Ayo\"\n",
    "\n",
    "first0name = \"Ayo\"\n"
   ]
  },
  {
   "cell_type": "code",
   "execution_count": 8,
   "metadata": {
    "colab": {
     "base_uri": "https://localhost:8080/"
    },
    "id": "7Wd6lu7FANUz",
    "outputId": "835a59b8-577a-4acd-d21e-0919f4ec40ae"
   },
   "outputs": [
    {
     "name": "stdout",
     "output_type": "stream",
     "text": [
      "54\n",
      "Bode\n",
      "654\n"
     ]
    }
   ],
   "source": [
    "a = 54\n",
    "b = \"Bode\"\n",
    "c = 654\n",
    "\n",
    "print(a)\n",
    "print(b)\n",
    "print(c)\n",
    "\n",
    "\n",
    "a =54\n",
    "b = 54\n",
    "c =54"
   ]
  },
  {
   "cell_type": "markdown",
   "metadata": {},
   "source": [
    "Assigning Multiple Values to Multiple Variables using the ''='' which is an assignment Operator"
   ]
  },
  {
   "cell_type": "code",
   "execution_count": 9,
   "metadata": {
    "colab": {
     "base_uri": "https://localhost:8080/"
    },
    "id": "poI_ZrToAXu5",
    "outputId": "ad1e609f-210a-48cf-f33c-c8f40b57c6a5"
   },
   "outputs": [
    {
     "name": "stdout",
     "output_type": "stream",
     "text": [
      "54\n",
      "Bode\n",
      "654\n"
     ]
    }
   ],
   "source": [
    "a , b, c = 54 ,\"Bode\", 654\n",
    "\n",
    "print(a)\n",
    "print(b)\n",
    "print(c)"
   ]
  },
  {
   "cell_type": "markdown",
   "metadata": {},
   "source": [
    "Assigning a Single Value to Multiple Variables using the ''='' which is an assignment Operator"
   ]
  },
  {
   "cell_type": "code",
   "execution_count": 10,
   "metadata": {
    "colab": {
     "base_uri": "https://localhost:8080/"
    },
    "id": "n0GSYX_0AwDR",
    "outputId": "6d47e6f6-ad4e-4497-c6ec-c1603cecc5fe"
   },
   "outputs": [
    {
     "name": "stdout",
     "output_type": "stream",
     "text": [
      "54\n",
      "54\n",
      "54\n"
     ]
    }
   ],
   "source": [
    "a = b = c =54\n",
    "\n",
    "print(a)\n",
    "print(b)\n",
    "print(c)"
   ]
  },
  {
   "cell_type": "markdown",
   "metadata": {},
   "source": [
    "Integers (data types)"
   ]
  },
  {
   "cell_type": "code",
   "execution_count": null,
   "metadata": {},
   "outputs": [],
   "source": [
    "# integers (int)\n",
    "\n",
    "age = 45\n",
    "number = 76\n",
    "\n",
    "\n",
    "#float\n",
    "age = 45.0\n",
    "pi = 3.14\n",
    "\n",
    "# complex\n",
    "num = 2+4j\n",
    "\n",
    "print(age)"
   ]
  },
  {
   "cell_type": "code",
   "execution_count": 13,
   "metadata": {
    "colab": {
     "base_uri": "https://localhost:8080/"
    },
    "id": "wEROe42xBqgZ",
    "outputId": "13347404-a8a6-4852-a534-80578e8ea7a7"
   },
   "outputs": [
    {
     "name": "stdout",
     "output_type": "stream",
     "text": [
      "76.0\n"
     ]
    }
   ],
   "source": [
    "num = float(number)\n",
    "print(num)"
   ]
  },
  {
   "cell_type": "code",
   "execution_count": 14,
   "metadata": {
    "colab": {
     "base_uri": "https://localhost:8080/"
    },
    "id": "ymsDz-WLB9oz",
    "outputId": "72de63c9-f16a-4083-c936-dea7b25fc58b"
   },
   "outputs": [
    {
     "name": "stdout",
     "output_type": "stream",
     "text": [
      "3\n"
     ]
    }
   ],
   "source": [
    "pi_int = int(pi)\n",
    "print(pi_int)"
   ]
  },
  {
   "cell_type": "markdown",
   "metadata": {},
   "source": [
    "String (Data Types)"
   ]
  },
  {
   "cell_type": "code",
   "execution_count": 15,
   "metadata": {
    "colab": {
     "base_uri": "https://localhost:8080/"
    },
    "id": "xRTcrN4ECOdy",
    "outputId": "53b11aae-9c0b-4bb1-dbf5-5dc86279e28b"
   },
   "outputs": [
    {
     "name": "stdout",
     "output_type": "stream",
     "text": [
      "Police Academy 2\n",
      "45\n"
     ]
    }
   ],
   "source": [
    "school = \"Police Academy 2\"\n",
    "digit = \"45\"\n",
    "\n",
    "print(school)\n",
    "print(digit)\n"
   ]
  },
  {
   "cell_type": "code",
   "execution_count": 23,
   "metadata": {
    "colab": {
     "base_uri": "https://localhost:8080/"
    },
    "id": "lPuJGiYiCn43",
    "outputId": "f0b5620f-1a8e-490d-8dc7-d7e42b2ac53d"
   },
   "outputs": [
    {
     "name": "stdout",
     "output_type": "stream",
     "text": [
      "A\n",
      "e\n",
      "ademy\n",
      "Police\n",
      "Police\n"
     ]
    }
   ],
   "source": [
    "# String Slicing\n",
    "print(school[7])\n",
    "print(school[5])\n",
    "print(school[9:14])\n",
    "print(school[0:6])\n",
    "print(school[:6])"
   ]
  },
  {
   "cell_type": "markdown",
   "metadata": {},
   "source": [
    "# OPERATORS\n",
    "Arithmetic Operators\n",
    "\n",
    "-Arithmetic operators are used to performing mathematical operations like addition, subtraction, multiplication, and division.\n",
    "\n",
    "* Operator\t    Description\t                                                                                    * Syntax\n",
    "\n",
    "* '+'\t            Addition: adds two operands\t                                                                   = x + y\n",
    "* '–'\t            Subtraction: subtracts two operands\t                                                           = x – y\n",
    "* '*'\t            Multiplication: multiplies two operands                                                        = x * y\n",
    "* '/'\t            Division (float): divides the first operand by the second\t                                   = x / y\n",
    "* '//'\t            Division (floor): divides the first operand by the second\t                                   = x// y\n",
    "* '%'\t            Modulus: returns the remainder when the first operand is divided by the second\t               = x % y\n",
    "* '**'\t            Power: Returns first raised to power second\t                                                   = x ** y\n"
   ]
  },
  {
   "cell_type": "code",
   "execution_count": 2,
   "metadata": {
    "colab": {
     "base_uri": "https://localhost:8080/"
    },
    "id": "dyZ7rSBTFjXi",
    "outputId": "2cb66c3c-d1f0-465c-f93d-50cef8196e7a"
   },
   "outputs": [
    {
     "name": "stdout",
     "output_type": "stream",
     "text": [
      "4.2\n",
      "4\n",
      "1\n",
      "True\n"
     ]
    }
   ],
   "source": [
    "# Operators\n",
    "'''\n",
    "1. Arithemetic Operators\n",
    "+ - * / // %\n",
    "\n",
    "\n",
    "'''\n",
    "a = 21 # Assignment Operator\n",
    "b = 5\n",
    "\n",
    "print(a / b) # Division\n",
    "print(a // b) \n",
    "print(a % b)\n",
    "\n",
    "# >\n",
    "# <\n",
    "# ==\n",
    "# >=\n",
    "# <=\n",
    "\n",
    "print(a >= b)"
   ]
  },
  {
   "cell_type": "code",
   "execution_count": 3,
   "metadata": {
    "colab": {
     "base_uri": "https://localhost:8080/"
    },
    "id": "_peAbGtgGucP",
    "outputId": "80a56a41-8801-49f6-93a9-01c26ad371d2"
   },
   "outputs": [
    {
     "name": "stdout",
     "output_type": "stream",
     "text": [
      "The man is 40 years old\n"
     ]
    }
   ],
   "source": [
    "age = 40\n",
    "\n",
    "# The man is 40 years old\n",
    "\n",
    "print(\"The man is\", age, \"years old\")"
   ]
  },
  {
   "cell_type": "code",
   "execution_count": 42,
   "metadata": {
    "colab": {
     "base_uri": "https://localhost:8080/"
    },
    "id": "KFshE9HSHkM9",
    "outputId": "1595190c-f000-4ef4-ea18-a617d91a2052"
   },
   "outputs": [
    {
     "name": "stdout",
     "output_type": "stream",
     "text": [
      "The man is 40 years old\n"
     ]
    }
   ],
   "source": [
    "print(f'The man is {age} years old')"
   ]
  },
  {
   "cell_type": "markdown",
   "metadata": {},
   "source": [
    "# Input Function\n",
    "Think of the input() function in Python like having a conversation with your computer. It's a way for your computer program to ask you a question, and for you to respond.\n",
    "\n",
    "* Here's a simple analogy:\n",
    "\n",
    "-Your program asks you a question using input(\"Enter something: \"). It's like your computer saying, \"Hey, I need some information from you. Please enter something.\"\n",
    "\n",
    "-You respond by typing something on your keyboard. Whatever you type is captured by the program and stored in a variable, let's call it user_input. It's like you answering the computer's question.\n",
    "\n",
    "-The program can then use and work with what you entered. For example, it might say, \"You entered: [whatever you typed]\"."
   ]
  },
  {
   "cell_type": "code",
   "execution_count": 45,
   "metadata": {
    "colab": {
     "base_uri": "https://localhost:8080/"
    },
    "id": "weWebEgEH_OD",
    "outputId": "d1697d4d-bd03-496d-9a62-4d991ce6da27"
   },
   "outputs": [
    {
     "name": "stdout",
     "output_type": "stream",
     "text": [
      "86\n",
      "You are 86 years old\n"
     ]
    }
   ],
   "source": [
    "age = input()\n",
    "print(f'You are {age} years old')"
   ]
  },
  {
   "cell_type": "code",
   "execution_count": 46,
   "metadata": {
    "colab": {
     "base_uri": "https://localhost:8080/"
    },
    "id": "TtsXtVT_H_Rb",
    "outputId": "9ec6013b-a0e9-4787-d596-811a97b2ab4e"
   },
   "outputs": [
    {
     "name": "stdout",
     "output_type": "stream",
     "text": [
      "Enter your age: 12\n",
      "You are 12 years old\n"
     ]
    }
   ],
   "source": [
    "age = input(\"Enter your age: \")\n",
    "print(f'You are {age} years old')"
   ]
  }
 ],
 "metadata": {
  "colab": {
   "provenance": []
  },
  "kernelspec": {
   "display_name": "Python 3 (ipykernel)",
   "language": "python",
   "name": "python3"
  },
  "language_info": {
   "codemirror_mode": {
    "name": "ipython",
    "version": 3
   },
   "file_extension": ".py",
   "mimetype": "text/x-python",
   "name": "python",
   "nbconvert_exporter": "python",
   "pygments_lexer": "ipython3",
   "version": "3.10.9"
  }
 },
 "nbformat": 4,
 "nbformat_minor": 1
}
